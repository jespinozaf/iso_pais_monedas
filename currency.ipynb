{
 "cells": [
  {
   "cell_type": "markdown",
   "metadata": {},
   "source": [
    "# PROYECTO ISO Y PAIS DE MONEDAS DEL MUNDO"
   ]
  },
  {
   "cell_type": "markdown",
   "metadata": {},
   "source": [
    "<ol>1. Importar:\n",
    "    <ul>\n",
    "        <li>requests</li> \n",
    "        <li>BeatutifulSoup4</li>\n",
    "        <li>pandas</li>\n",
    "    </ul>\n",
    "</ol>"
   ]
  },
  {
   "cell_type": "markdown",
   "metadata": {},
   "source": [
    "<hr>"
   ]
  },
  {
   "cell_type": "code",
   "execution_count": 55,
   "metadata": {},
   "outputs": [],
   "source": [
    "import requests\n",
    "from bs4 import BeautifulSoup\n",
    "import pandas as pd"
   ]
  },
  {
   "cell_type": "markdown",
   "metadata": {},
   "source": [
    "<ol> 2. declaramos **URL** datos mundiales</ol>"
   ]
  },
  {
   "cell_type": "code",
   "execution_count": 3,
   "metadata": {},
   "outputs": [],
   "source": [
    "url='https://www.datosmundial.com/monedas/'"
   ]
  },
  {
   "cell_type": "code",
   "execution_count": 4,
   "metadata": {},
   "outputs": [],
   "source": [
    "response=requests.get(url)"
   ]
  },
  {
   "cell_type": "markdown",
   "metadata": {},
   "source": [
    "<ol>3. Utilizamos BeautifulSoup para trabajar el contenido de la respuesta</ol>"
   ]
  },
  {
   "cell_type": "code",
   "execution_count": 7,
   "metadata": {},
   "outputs": [],
   "source": [
    "soup=BeautifulSoup(response.text,'html.parser')"
   ]
  },
  {
   "cell_type": "markdown",
   "metadata": {},
   "source": [
    "<ol>4. Hacemos una busqueda en la etiqueta **table** que tiene asignada la clase ***std100 hover***, esta contiene la información del **ISO**, y el **País** que necesitamos.</ol>"
   ]
  },
  {
   "cell_type": "code",
   "execution_count": 8,
   "metadata": {},
   "outputs": [],
   "source": [
    "data=soup.find('table',attrs={'class':'std100 hover'}).find_all('td')"
   ]
  },
  {
   "cell_type": "markdown",
   "metadata": {},
   "source": [
    "<ol>5. extraigo los datos del iso y el país, hago uso de list comprehension, y una funcion que almacena un for.</ol>"
   ]
  },
  {
   "cell_type": "code",
   "execution_count": 49,
   "metadata": {},
   "outputs": [],
   "source": [
    "cod_iso = [data[i*3].text for i in range(len(data)) if i*3<len(data)]\n",
    "def pais(data):\n",
    "    pais=[]\n",
    "    a=2\n",
    "    b=3\n",
    "    c=0\n",
    "    pais.append(data[2].text)\n",
    "    for i in range(len(data)):      \n",
    "        if c<=i-1:\n",
    "            c = a + b\n",
    "            a = c\n",
    "            salida=data[c].text\n",
    "            pais.append(salida)\n",
    "    return pais\n",
    "paises = pais(data)"
   ]
  },
  {
   "cell_type": "markdown",
   "metadata": {},
   "source": [
    "<ol>6. almaceno en un arreglo ambos resultados</ol>"
   ]
  },
  {
   "cell_type": "code",
   "execution_count": 53,
   "metadata": {},
   "outputs": [],
   "source": [
    "db = []\n",
    "for i in range(len(cod_iso)):\n",
    "    all={}\n",
    "    all['iso']=cod_iso[i]\n",
    "    all['pais']=paises[i]\n",
    "    db.append(all)"
   ]
  },
  {
   "cell_type": "markdown",
   "metadata": {},
   "source": [
    "<ol>7. Guardo los datos haciendo uso de pandas mediante el metodo *DataFrame*, y luego muestro datos con *read_csv*</ol>"
   ]
  },
  {
   "cell_type": "code",
   "execution_count": 61,
   "metadata": {},
   "outputs": [
    {
     "data": {
      "text/html": [
       "<div>\n",
       "<style scoped>\n",
       "    .dataframe tbody tr th:only-of-type {\n",
       "        vertical-align: middle;\n",
       "    }\n",
       "\n",
       "    .dataframe tbody tr th {\n",
       "        vertical-align: top;\n",
       "    }\n",
       "\n",
       "    .dataframe thead th {\n",
       "        text-align: right;\n",
       "    }\n",
       "</style>\n",
       "<table border=\"1\" class=\"dataframe\">\n",
       "  <thead>\n",
       "    <tr style=\"text-align: right;\">\n",
       "      <th></th>\n",
       "      <th>iso</th>\n",
       "      <th>pais</th>\n",
       "    </tr>\n",
       "  </thead>\n",
       "  <tbody>\n",
       "    <tr>\n",
       "      <th>0</th>\n",
       "      <td>AED</td>\n",
       "      <td>Emiratos Árabes Unidos</td>\n",
       "    </tr>\n",
       "    <tr>\n",
       "      <th>1</th>\n",
       "      <td>AFN</td>\n",
       "      <td>Afganistán</td>\n",
       "    </tr>\n",
       "    <tr>\n",
       "      <th>2</th>\n",
       "      <td>ALL</td>\n",
       "      <td>Albania</td>\n",
       "    </tr>\n",
       "    <tr>\n",
       "      <th>3</th>\n",
       "      <td>AMD</td>\n",
       "      <td>Armenia</td>\n",
       "    </tr>\n",
       "    <tr>\n",
       "      <th>4</th>\n",
       "      <td>ANG</td>\n",
       "      <td>Sint Maarten, Curaçao</td>\n",
       "    </tr>\n",
       "    <tr>\n",
       "      <th>...</th>\n",
       "      <td>...</td>\n",
       "      <td>...</td>\n",
       "    </tr>\n",
       "    <tr>\n",
       "      <th>157</th>\n",
       "      <td>XPF</td>\n",
       "      <td>Polinesia Francesa, Nueva Caledonia, Wallis y ...</td>\n",
       "    </tr>\n",
       "    <tr>\n",
       "      <th>158</th>\n",
       "      <td>YER</td>\n",
       "      <td>Yemen</td>\n",
       "    </tr>\n",
       "    <tr>\n",
       "      <th>159</th>\n",
       "      <td>ZAR</td>\n",
       "      <td>Sudáfrica</td>\n",
       "    </tr>\n",
       "    <tr>\n",
       "      <th>160</th>\n",
       "      <td>ZMW</td>\n",
       "      <td>Zambia</td>\n",
       "    </tr>\n",
       "    <tr>\n",
       "      <th>161</th>\n",
       "      <td>ZWL</td>\n",
       "      <td>Zimbabue</td>\n",
       "    </tr>\n",
       "  </tbody>\n",
       "</table>\n",
       "<p>162 rows × 2 columns</p>\n",
       "</div>"
      ],
      "text/plain": [
       "     iso                                               pais\n",
       "0    AED                             Emiratos Árabes Unidos\n",
       "1    AFN                                         Afganistán\n",
       "2    ALL                                            Albania\n",
       "3    AMD                                            Armenia\n",
       "4    ANG                              Sint Maarten, Curaçao\n",
       "..   ...                                                ...\n",
       "157  XPF  Polinesia Francesa, Nueva Caledonia, Wallis y ...\n",
       "158  YER                                              Yemen\n",
       "159  ZAR                                          Sudáfrica\n",
       "160  ZMW                                             Zambia\n",
       "161  ZWL                                           Zimbabue\n",
       "\n",
       "[162 rows x 2 columns]"
      ]
     },
     "execution_count": 61,
     "metadata": {},
     "output_type": "execute_result"
    }
   ],
   "source": [
    "df = pd.DataFrame(db)\n",
    "df.to_csv('currency.csv',index=False)\n",
    "\n",
    "df = pd.read_csv('currency.csv', encoding='utf-8')\n",
    "df\n"
   ]
  }
 ],
 "metadata": {
  "kernelspec": {
   "display_name": "Python 3.10.4 ('venv': venv)",
   "language": "python",
   "name": "python3"
  },
  "language_info": {
   "codemirror_mode": {
    "name": "ipython",
    "version": 3
   },
   "file_extension": ".py",
   "mimetype": "text/x-python",
   "name": "python",
   "nbconvert_exporter": "python",
   "pygments_lexer": "ipython3",
   "version": "3.10.4"
  },
  "orig_nbformat": 4,
  "vscode": {
   "interpreter": {
    "hash": "07dd18c5e66200d8987629f8656f2c4ed0ae49e9cde4e5f0af8da8219006376b"
   }
  }
 },
 "nbformat": 4,
 "nbformat_minor": 2
}
